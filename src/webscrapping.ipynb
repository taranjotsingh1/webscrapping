{
 "cells": [
  {
   "cell_type": "markdown",
   "metadata": {},
   "source": [
    "# Getting response from URL"
   ]
  },
  {
   "cell_type": "code",
   "execution_count": 5,
   "metadata": {},
   "outputs": [],
   "source": [
    "import re\n",
    "import requests\n",
    "from bs4 import BeautifulSoup\n",
    "import csv\n",
    "url = \"https://en.wikipedia.org/wiki/Australian_Football_League\"\n",
    "response = requests.get(url)\n",
    "\n",
    "converting_html = response.text\n",
    "page = BeautifulSoup(converting_html, \"html.parser\")\n",
    "\n"
   ]
  },
  {
   "cell_type": "markdown",
   "metadata": {},
   "source": [
    "## Pulling out the required headings from url table"
   ]
  },
  {
   "cell_type": "code",
   "execution_count": 6,
   "metadata": {},
   "outputs": [],
   "source": [
    "club_table = page.find(\"table\", attrs={\"class\":\"wikitable sortable\"})\n",
    "club_table_data = club_table.tbody.find_all(\"tr\")\n",
    "\n",
    "    \n",
    "headings =[]\n",
    "required_headings = []\n",
    "    \n",
    "for th in club_table_data[0].find_all(\"th\"):\n",
    "        headings.append(th.text.replace('\\n', ' ').strip())\n",
    "for main_headings in headings:\n",
    "        \n",
    "    if main_headings.lower() == \"club\":\n",
    "        required_headings.append(main_headings)\n",
    "    elif main_headings.lower() == \"moniker\":\n",
    "        required_headings.append(main_headings)\n",
    "    elif main_headings.lower() == \"home venue\":\n",
    "            required_headings.append(main_headings)\n",
    "    elif main_headings.lower() == \"state\":\n",
    "        required_headings.append(main_headings)\n",
    "    \n",
    "required_headings.append(\"Club ID\")\n",
    "required_headings[1] = \"Nick Name\"\n"
   ]
  },
  {
   "cell_type": "markdown",
   "metadata": {},
   "source": [
    "## opeining the csv file"
   ]
  },
  {
   "cell_type": "code",
   "execution_count": 7,
   "metadata": {},
   "outputs": [
    {
     "name": "stdout",
     "output_type": "stream",
     "text": [
      "5\n",
      "5\n",
      "5\n",
      "5\n",
      "5\n",
      "5\n",
      "5\n",
      "5\n",
      "5\n",
      "5\n",
      "5\n",
      "5\n",
      "5\n",
      "5\n",
      "5\n",
      "5\n",
      "5\n",
      "5\n",
      "1\n"
     ]
    }
   ],
   "source": [
    "with open(\"outfile.csv\", \"w\", newline= \"\") as Club_File:\n",
    "    writer = csv.writer(Club_File)\n",
    "    writer.writerow(required_headings)\n",
    "    for index in range(2, len(club_table_data)):\n",
    "            row_headings =[]\n",
    "            data_list = []\n",
    "            new_data_list =[]\n",
    "            \n",
    "            for th in club_table_data[index].find_all(\"th\"):\n",
    "                \n",
    "                row_headings.append(th.text.replace(\"\\n\", \" \").strip())\n",
    "                \n",
    "            \n",
    "            for td in club_table_data[index].find_all(\"td\"):\n",
    "                \n",
    "                data_list.append(td.text.replace(\"\\n\", \" \").strip())\n",
    "            new_data_list = data_list[1:4]\n",
    "            for stuff in new_data_list:\n",
    "                row_headings.append(stuff)\n",
    "                \n",
    "            row_headings.append(index + 1000)\n",
    "            print(len(row_headings))\n",
    "            if len(row_headings) > 4:\n",
    "                writer.writerow(row_headings)\n",
    "            else:\n",
    "                pass"
   ]
  },
  {
   "cell_type": "markdown",
   "metadata": {},
   "source": [
    "## Closing the files"
   ]
  },
  {
   "cell_type": "code",
   "execution_count": 8,
   "metadata": {},
   "outputs": [],
   "source": [
    "    Club_File.close()\n",
    "\n",
    "response.close()"
   ]
  }
 ],
 "metadata": {
  "interpreter": {
   "hash": "846dd892e0551f95e07ca2e371f0eaf7d4a61b0d89de6721bf1f9383597d6888"
  },
  "kernelspec": {
   "display_name": "Python 3.8.8 64-bit ('base': conda)",
   "name": "python3"
  },
  "language_info": {
   "codemirror_mode": {
    "name": "ipython",
    "version": 3
   },
   "file_extension": ".py",
   "mimetype": "text/x-python",
   "name": "python",
   "nbconvert_exporter": "python",
   "pygments_lexer": "ipython3",
   "version": "3.8.8"
  },
  "orig_nbformat": 4
 },
 "nbformat": 4,
 "nbformat_minor": 2
}